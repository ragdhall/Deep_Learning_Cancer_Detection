{
 "cells": [
  {
   "cell_type": "code",
   "execution_count": null,
   "metadata": {},
   "outputs": [],
   "source": [
    "import keras\n",
    "import numpy as np\n",
    "from keras import backend as K\n",
    "from keras.models import Sequential\n",
    "from keras.layers import Activation\n",
    "from keras.layers.core import Dense, Dropout, Flatten\n",
    "from keras.optimizers import Adam\n",
    "from keras.metrics import categorical_crossentropy\n",
    "from keras.preprocessing.image import ImageDataGenerator\n",
    "from keras.layers.normalization import BatchNormalization\n",
    "from keras.layers.convolutional import *\n",
    "import itertools\n",
    "import sys\n",
    "from scipy import misc,ndimage\n",
    "import os"
   ]
  },
  {
   "cell_type": "code",
   "execution_count": null,
   "metadata": {},
   "outputs": [],
   "source": [
    "# Architecture ==> (Convolutional and ReLu + Convolutional and ReLu + Max Pooling)x3 + Fully Connected ReLu x 2 + Dropout Layer(0.5) + Fully Connected Sigmoid\n",
    "# Kernel Size ==> First  - 5 x 5, Second - 5 x 5, 3 x 3 for the rest \n",
    "# Stride ==> 2 for the first layer, 1 for the rest\n",
    "# No. of Kernels ==> 32, 32, 64, 64, 128, 128\n",
    "\n",
    "model = Sequential()\n",
    "model.add(Conv2D(32, (5,5), strides = (2,2), activation = 'relu', input_shape = (224,224,3), padding = 'same'))\n",
    "model.add(Conv2D(32, (5,5), strides = (1,1), activation = 'relu', padding = 'same'))\n",
    "model.add(MaxPooling2D((2,2), strides = 2, padding = 'same'))\n",
    "model.add(Conv2D(64, (5,5), strides = (1,1), activation = 'relu', padding = 'same'))\n",
    "model.add(Conv2D(64, (5,5), strides = (1,1), activation = 'relu', padding = 'same'))\n",
    "model.add(MaxPooling2D((2,2), strides = 2, padding = 'same'))\n",
    "model.add(Conv2D(128, (3,3), strides = (1,1), activation = 'relu', padding = 'same'))\n",
    "model.add(Conv2D(128, (3,3), strides = (1,1), activation = 'relu', padding = 'same'))\n",
    "model.add(MaxPooling2D((2,2), strides = 2, padding = 'same'))\n",
    "model.add(Flatten())\n",
    "model.add(Dense(512, activation = 'relu'))\n",
    "model.add(Dense(256, activation = 'relu'))\n",
    "model.add(Dropout(0.5))\n",
    "model.add(Dense(2, activation = 'sigmoid'))\n",
    "\n",
    "model.summary()\n"
   ]
  },
  {
   "cell_type": "code",
   "execution_count": null,
   "metadata": {},
   "outputs": [],
   "source": [
    "model.compile(loss = keras.losses.categorical_crossentropy, optimizer = keras.optimizers.Adam(lr=0.001), metrics = ['accuracy'])"
   ]
  },
  {
   "cell_type": "code",
   "execution_count": null,
   "metadata": {},
   "outputs": [],
   "source": [
    "train_path = #add path to training data\n",
    "test_path = #add path to testing data"
   ]
  },
  {
   "cell_type": "code",
   "execution_count": null,
   "metadata": {},
   "outputs": [],
   "source": [
    "train_batches = ImageDataGenerator().flow_from_directory(train_path, target_size = (224,224), classes = ['benign', 'malignant'], batch_size = 30)\n",
    "test_batches = ImageDataGenerator().flow_from_directory(test_path, target_size = (224, 224), classes = ['benign', 'malignant'], batch_size = 6)"
   ]
  },
  {
   "cell_type": "code",
   "execution_count": null,
   "metadata": {},
   "outputs": [],
   "source": [
    "model.fit_generator(train_batches, steps_per_epoch = 8, epochs = 8)"
   ]
  }
 ],
 "metadata": {
  "kernelspec": {
   "display_name": "Python 2",
   "language": "python",
   "name": "python2"
  },
  "language_info": {
   "codemirror_mode": {
    "name": "ipython",
    "version": 2
   },
   "file_extension": ".py",
   "mimetype": "text/x-python",
   "name": "python",
   "nbconvert_exporter": "python",
   "pygments_lexer": "ipython2",
   "version": "2.7.15"
  }
 },
 "nbformat": 4,
 "nbformat_minor": 2
}
